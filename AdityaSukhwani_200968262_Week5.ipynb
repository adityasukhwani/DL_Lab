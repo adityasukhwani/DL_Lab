{
  "nbformat": 4,
  "nbformat_minor": 0,
  "metadata": {
    "colab": {
      "provenance": [],
      "collapsed_sections": [],
      "authorship_tag": "ABX9TyOXCuC1VpzfnKNPx/sHbeME",
      "include_colab_link": true
    },
    "kernelspec": {
      "name": "python3",
      "display_name": "Python 3"
    },
    "language_info": {
      "name": "python"
    },
    "accelerator": "GPU",
    "gpuClass": "standard"
  },
  "cells": [
    {
      "cell_type": "markdown",
      "metadata": {
        "id": "view-in-github",
        "colab_type": "text"
      },
      "source": [
        "<a href=\"https://colab.research.google.com/github/adityasukhwani/DL_Lab/blob/master/AdityaSukhwani_200968262_Week5.ipynb\" target=\"_parent\"><img src=\"https://colab.research.google.com/assets/colab-badge.svg\" alt=\"Open In Colab\"/></a>"
      ]
    },
    {
      "cell_type": "code",
      "execution_count": null,
      "metadata": {
        "id": "ogEMDs-w9qqQ"
      },
      "outputs": [],
      "source": [
        "#Imports\n",
        "import numpy as np\n",
        "import tensorflow as tf\n",
        "from tensorflow import keras\n",
        "import pandas as pd\n",
        "https://www.tensorflow.org/guide/keras/functional"
      ]
    },
    {
      "cell_type": "code",
      "source": [
        "# Fetching the dataset from sklearn.datasets and splitting and storing it in X and y\n",
        "from sklearn.datasets import fetch_california_housing\n",
        "X,y=fetch_california_housing(return_X_y=True)"
      ],
      "metadata": {
        "id": "N2BE98tqAWkJ"
      },
      "execution_count": null,
      "outputs": []
    },
    {
      "cell_type": "code",
      "source": [
        "# Normalizing the dataset\n",
        "from sklearn.preprocessing import StandardScaler\n",
        "scaler=StandardScaler()\n",
        "X=scaler.fit_transform(X)"
      ],
      "metadata": {
        "id": "BcCXMBwbHy6P"
      },
      "execution_count": null,
      "outputs": []
    },
    {
      "cell_type": "code",
      "source": [
        "# Splitting the dataset \n",
        "from sklearn.model_selection import train_test_split\n",
        "X_train, X_test, y_train,y_test=train_test_split(X,y, test_size=0.2, random_state=42)"
      ],
      "metadata": {
        "id": "A205uwIBEgmQ"
      },
      "execution_count": null,
      "outputs": []
    },
    {
      "cell_type": "code",
      "source": [
        "X_train.shape"
      ],
      "metadata": {
        "colab": {
          "base_uri": "https://localhost:8080/"
        },
        "id": "WnMQ5IR0KltA",
        "outputId": "07bea3e2-3ce8-4ff3-d983-266b16429d98"
      },
      "execution_count": null,
      "outputs": [
        {
          "output_type": "execute_result",
          "data": {
            "text/plain": [
              "(16512, 8)"
            ]
          },
          "metadata": {},
          "execution_count": 5
        }
      ]
    },
    {
      "cell_type": "markdown",
      "source": [
        "Using the sequential API to build a regression MLP with 1 hidden layer"
      ],
      "metadata": {
        "id": "5lRpiFpFUnuu"
      }
    },
    {
      "cell_type": "code",
      "source": [
        "seq_model=keras.models.Sequential([\n",
        "    keras.Input(shape=X_train.shape[1]),\n",
        "    keras.layers.Dense(30, activation=\"ReLU\"),\n",
        "    keras.layers.Dense(1,activation=\"linear\")\n",
        "])"
      ],
      "metadata": {
        "id": "hwi3WMkVGSEY"
      },
      "execution_count": null,
      "outputs": []
    },
    {
      "cell_type": "code",
      "source": [
        "seq_model.summary()"
      ],
      "metadata": {
        "colab": {
          "base_uri": "https://localhost:8080/"
        },
        "id": "Hhj1u9tXJacP",
        "outputId": "2e5e3cf3-ff0b-4f35-ed10-4ac81eaaa878"
      },
      "execution_count": null,
      "outputs": [
        {
          "output_type": "stream",
          "name": "stdout",
          "text": [
            "Model: \"sequential\"\n",
            "_________________________________________________________________\n",
            " Layer (type)                Output Shape              Param #   \n",
            "=================================================================\n",
            " dense (Dense)               (None, 30)                270       \n",
            "                                                                 \n",
            " dense_1 (Dense)             (None, 1)                 31        \n",
            "                                                                 \n",
            "=================================================================\n",
            "Total params: 301\n",
            "Trainable params: 301\n",
            "Non-trainable params: 0\n",
            "_________________________________________________________________\n"
          ]
        }
      ]
    },
    {
      "cell_type": "code",
      "source": [
        "# Complinig the sequential model created taking the loss function as MSE and optimizer as SGD and for evaluation using the root mean square error\n",
        "seq_model.compile(loss='mse', optimizer=keras.optimizers.SGD(learning_rate=0.001),metrics=[keras.metrics.RootMeanSquaredError()])"
      ],
      "metadata": {
        "id": "NuTsrCo1Jcpu"
      },
      "execution_count": null,
      "outputs": []
    },
    {
      "cell_type": "code",
      "source": [
        "# fitting the dataset on the model\n",
        "history=seq_model.fit(X_train,y_train, epochs=20,validation_split=0.2)"
      ],
      "metadata": {
        "colab": {
          "base_uri": "https://localhost:8080/"
        },
        "id": "h2v8iRNiMsCf",
        "outputId": "b1bdc7f6-a8e3-4f30-9c68-69a53011ae3b"
      },
      "execution_count": null,
      "outputs": [
        {
          "output_type": "stream",
          "name": "stdout",
          "text": [
            "Epoch 1/20\n",
            "413/413 [==============================] - 2s 3ms/step - loss: 1.9810 - root_mean_squared_error: 1.4075 - val_loss: 0.8773 - val_root_mean_squared_error: 0.9367\n",
            "Epoch 2/20\n",
            "413/413 [==============================] - 1s 3ms/step - loss: 0.7891 - root_mean_squared_error: 0.8883 - val_loss: 0.7718 - val_root_mean_squared_error: 0.8785\n",
            "Epoch 3/20\n",
            "413/413 [==============================] - 1s 3ms/step - loss: 0.7182 - root_mean_squared_error: 0.8475 - val_loss: 0.7262 - val_root_mean_squared_error: 0.8522\n",
            "Epoch 4/20\n",
            "413/413 [==============================] - 1s 3ms/step - loss: 0.6770 - root_mean_squared_error: 0.8228 - val_loss: 0.6891 - val_root_mean_squared_error: 0.8301\n",
            "Epoch 5/20\n",
            "413/413 [==============================] - 1s 3ms/step - loss: 0.6432 - root_mean_squared_error: 0.8020 - val_loss: 0.6599 - val_root_mean_squared_error: 0.8124\n",
            "Epoch 6/20\n",
            "413/413 [==============================] - 2s 4ms/step - loss: 0.6163 - root_mean_squared_error: 0.7851 - val_loss: 0.6316 - val_root_mean_squared_error: 0.7947\n",
            "Epoch 7/20\n",
            "413/413 [==============================] - 2s 5ms/step - loss: 0.5915 - root_mean_squared_error: 0.7691 - val_loss: 0.6102 - val_root_mean_squared_error: 0.7811\n",
            "Epoch 8/20\n",
            "413/413 [==============================] - 2s 5ms/step - loss: 0.5713 - root_mean_squared_error: 0.7559 - val_loss: 0.5905 - val_root_mean_squared_error: 0.7684\n",
            "Epoch 9/20\n",
            "413/413 [==============================] - 2s 5ms/step - loss: 0.5534 - root_mean_squared_error: 0.7439 - val_loss: 0.5744 - val_root_mean_squared_error: 0.7579\n",
            "Epoch 10/20\n",
            "413/413 [==============================] - 2s 4ms/step - loss: 0.5386 - root_mean_squared_error: 0.7339 - val_loss: 0.5614 - val_root_mean_squared_error: 0.7493\n",
            "Epoch 11/20\n",
            "413/413 [==============================] - 2s 5ms/step - loss: 0.5264 - root_mean_squared_error: 0.7255 - val_loss: 0.5498 - val_root_mean_squared_error: 0.7415\n",
            "Epoch 12/20\n",
            "413/413 [==============================] - 2s 5ms/step - loss: 0.5161 - root_mean_squared_error: 0.7184 - val_loss: 0.5404 - val_root_mean_squared_error: 0.7351\n",
            "Epoch 13/20\n",
            "413/413 [==============================] - 2s 5ms/step - loss: 0.5069 - root_mean_squared_error: 0.7120 - val_loss: 0.5328 - val_root_mean_squared_error: 0.7299\n",
            "Epoch 14/20\n",
            "413/413 [==============================] - 1s 3ms/step - loss: 0.4996 - root_mean_squared_error: 0.7068 - val_loss: 0.5264 - val_root_mean_squared_error: 0.7255\n",
            "Epoch 15/20\n",
            "413/413 [==============================] - 1s 3ms/step - loss: 0.4930 - root_mean_squared_error: 0.7022 - val_loss: 0.5218 - val_root_mean_squared_error: 0.7223\n",
            "Epoch 16/20\n",
            "413/413 [==============================] - 1s 3ms/step - loss: 0.4881 - root_mean_squared_error: 0.6986 - val_loss: 0.5162 - val_root_mean_squared_error: 0.7185\n",
            "Epoch 17/20\n",
            "413/413 [==============================] - 1s 3ms/step - loss: 0.4828 - root_mean_squared_error: 0.6949 - val_loss: 0.5123 - val_root_mean_squared_error: 0.7158\n",
            "Epoch 18/20\n",
            "413/413 [==============================] - 1s 3ms/step - loss: 0.4784 - root_mean_squared_error: 0.6917 - val_loss: 0.5091 - val_root_mean_squared_error: 0.7135\n",
            "Epoch 19/20\n",
            "413/413 [==============================] - 1s 3ms/step - loss: 0.4753 - root_mean_squared_error: 0.6894 - val_loss: 0.5051 - val_root_mean_squared_error: 0.7107\n",
            "Epoch 20/20\n",
            "413/413 [==============================] - 1s 3ms/step - loss: 0.4720 - root_mean_squared_error: 0.6870 - val_loss: 0.5034 - val_root_mean_squared_error: 0.7095\n"
          ]
        }
      ]
    },
    {
      "cell_type": "code",
      "source": [
        "import matplotlib.pyplot as plt\n",
        "plt.style.use(\"seaborn\")\n",
        "plt.plot(history.epoch,history.history['loss'])\n",
        "plt.plot(history.epoch,history.history['val_loss'])\n",
        "plt.legend([\"Training loss\",\"Test Loss\"])"
      ],
      "metadata": {
        "colab": {
          "base_uri": "https://localhost:8080/",
          "height": 364
        },
        "id": "pu1PvwxvNMFW",
        "outputId": "6084b4a9-ad1a-4681-a511-11de6413c558"
      },
      "execution_count": null,
      "outputs": [
        {
          "output_type": "execute_result",
          "data": {
            "text/plain": [
              "<matplotlib.legend.Legend at 0x7fe0f67b9b50>"
            ]
          },
          "metadata": {},
          "execution_count": 10
        },
        {
          "output_type": "display_data",
          "data": {
            "text/plain": [
              "<Figure size 576x396 with 1 Axes>"
            ],
            "image/png": "[encoded data removed]"
          },
          "metadata": {}
        }
      ]
    },
    {
      "cell_type": "code",
      "source": [
        "# Evaluating the model on the test data\n",
        "seq_model.evaluate(X_test,y_test)"
      ],
      "metadata": {
        "colab": {
          "base_uri": "https://localhost:8080/"
        },
        "id": "RepNVhIbOtB-",
        "outputId": "17572497-139e-468c-ade4-2d1a904e7bea"
      },
      "execution_count": null,
      "outputs": [
        {
          "output_type": "stream",
          "name": "stdout",
          "text": [
            "129/129 [==============================] - 0s 2ms/step - loss: 0.5006 - root_mean_squared_error: 0.7076\n"
          ]
        },
        {
          "output_type": "execute_result",
          "data": {
            "text/plain": [
              "[0.5006422400474548, 0.7075607776641846]"
            ]
          },
          "metadata": {},
          "execution_count": 11
        }
      ]
    },
    {
      "cell_type": "markdown",
      "source": [
        "As we can see that the loss is around 0.50 onn the test data which is fairly good and the root mean sqare error on the test data is 0.70.\n",
        "We can see that the loss and rmse is decreasing as the epochs increases which shows that the model is learning well and trying to fit perfectly "
      ],
      "metadata": {
        "id": "l7QucgS8WNVT"
      }
    },
    {
      "cell_type": "markdown",
      "source": [
        "Functional API"
      ],
      "metadata": {
        "id": "S5aIeuQPa438"
      }
    },
    {
      "cell_type": "code",
      "source": [
        "# Passing 0 to 4 features as InputA\n",
        "input1=keras.Input((5,),name=\"Input1\")\n",
        "#Passing 2 to 7 features as InputB\n",
        "input2=keras.Input((6,),name=\"Input2\")\n",
        "#Creating the 2 hidden layers\n",
        "hidden_1=keras.layers.Dense(30,activation=\"ReLU\",name=\"Hidden1\")(input2)\n",
        "hidden_2=keras.layers.Dense(30,activation=\"ReLU\",name=\"Hidden2\")(hidden_1)\n",
        "#Concatenating the 2 layers\n",
        "concat=keras.layers.concatenate([hidden_2,input1])\n",
        "\n",
        "output=keras.layers.Dense(1,activation=\"linear\",name=\"output\")(concat)"
      ],
      "metadata": {
        "id": "pPSCJzDua88T"
      },
      "execution_count": null,
      "outputs": []
    },
    {
      "cell_type": "code",
      "source": [
        "func_model=keras.Model(inputs=[input1,input2],outputs=[output])"
      ],
      "metadata": {
        "id": "7CaNiI8uggr0"
      },
      "execution_count": null,
      "outputs": []
    },
    {
      "cell_type": "code",
      "source": [
        "# Splitting the dataset to pass as input to function\n",
        "x1=np.hsplit(X_train,np.array([5,8]))[0]\n",
        "x2=np.hsplit(X_train,np.array([2,8]))[1]\n"
      ],
      "metadata": {
        "id": "jUIV6lPFgi_D"
      },
      "execution_count": null,
      "outputs": []
    },
    {
      "cell_type": "code",
      "source": [
        "keras.utils.plot_model(func_model, show_shapes=True)"
      ],
      "metadata": {
        "colab": {
          "base_uri": "https://localhost:8080/",
          "height": 533
        },
        "id": "HfeXx_fbiHJT",
        "outputId": "5169f476-5491-4c8f-964e-699ba6243375"
      },
      "execution_count": null,
      "outputs": [
        {
          "output_type": "execute_result",
          "data": {
            "image/png": "[encoded data removed]",
            "text/plain": [
              "<IPython.core.display.Image object>"
            ]
          },
          "metadata": {},
          "execution_count": 15
        }
      ]
    },
    {
      "cell_type": "code",
      "source": [
        "func_model.compile(loss='mse', optimizer=keras.optimizers.SGD(learning_rate=0.001),metrics=[keras.metrics.RootMeanSquaredError()])"
      ],
      "metadata": {
        "id": "0sixSnzQhP9D"
      },
      "execution_count": null,
      "outputs": []
    },
    {
      "cell_type": "code",
      "source": [
        "history_func=func_model.fit([x1,x2],y_train, epochs=20, validation_split=0.2)"
      ],
      "metadata": {
        "colab": {
          "base_uri": "https://localhost:8080/"
        },
        "id": "UVXBN87Zg1SU",
        "outputId": "be768543-d60e-4f38-cda6-b25403d20314"
      },
      "execution_count": null,
      "outputs": [
        {
          "output_type": "stream",
          "name": "stdout",
          "text": [
            "Epoch 1/20\n",
            "413/413 [==============================] - 2s 3ms/step - loss: 1.6426 - root_mean_squared_error: 1.2817 - val_loss: 0.8458 - val_root_mean_squared_error: 0.9197\n",
            "Epoch 2/20\n",
            "413/413 [==============================] - 1s 3ms/step - loss: 0.7581 - root_mean_squared_error: 0.8707 - val_loss: 0.7034 - val_root_mean_squared_error: 0.8387\n",
            "Epoch 3/20\n",
            "413/413 [==============================] - 1s 3ms/step - loss: 0.6465 - root_mean_squared_error: 0.8040 - val_loss: 0.6528 - val_root_mean_squared_error: 0.8080\n",
            "Epoch 4/20\n",
            "413/413 [==============================] - 1s 3ms/step - loss: 0.6083 - root_mean_squared_error: 0.7799 - val_loss: 0.6197 - val_root_mean_squared_error: 0.7872\n",
            "Epoch 5/20\n",
            "413/413 [==============================] - 1s 3ms/step - loss: 0.5815 - root_mean_squared_error: 0.7625 - val_loss: 0.5955 - val_root_mean_squared_error: 0.7717\n",
            "Epoch 6/20\n",
            "413/413 [==============================] - 1s 3ms/step - loss: 0.5605 - root_mean_squared_error: 0.7487 - val_loss: 0.5758 - val_root_mean_squared_error: 0.7588\n",
            "Epoch 7/20\n",
            "413/413 [==============================] - 1s 3ms/step - loss: 0.5442 - root_mean_squared_error: 0.7377 - val_loss: 0.5600 - val_root_mean_squared_error: 0.7484\n",
            "Epoch 8/20\n",
            "413/413 [==============================] - 1s 3ms/step - loss: 0.5309 - root_mean_squared_error: 0.7286 - val_loss: 0.5477 - val_root_mean_squared_error: 0.7401\n",
            "Epoch 9/20\n",
            "413/413 [==============================] - 1s 3ms/step - loss: 0.5200 - root_mean_squared_error: 0.7211 - val_loss: 0.5367 - val_root_mean_squared_error: 0.7326\n",
            "Epoch 10/20\n",
            "413/413 [==============================] - 1s 3ms/step - loss: 0.5103 - root_mean_squared_error: 0.7144 - val_loss: 0.5277 - val_root_mean_squared_error: 0.7265\n",
            "Epoch 11/20\n",
            "413/413 [==============================] - 1s 3ms/step - loss: 0.5020 - root_mean_squared_error: 0.7085 - val_loss: 0.5202 - val_root_mean_squared_error: 0.7213\n",
            "Epoch 12/20\n",
            "413/413 [==============================] - 1s 3ms/step - loss: 0.4947 - root_mean_squared_error: 0.7033 - val_loss: 0.5147 - val_root_mean_squared_error: 0.7174\n",
            "Epoch 13/20\n",
            "413/413 [==============================] - 1s 3ms/step - loss: 0.4888 - root_mean_squared_error: 0.6991 - val_loss: 0.5088 - val_root_mean_squared_error: 0.7133\n",
            "Epoch 14/20\n",
            "413/413 [==============================] - 1s 3ms/step - loss: 0.4832 - root_mean_squared_error: 0.6951 - val_loss: 0.5027 - val_root_mean_squared_error: 0.7090\n",
            "Epoch 15/20\n",
            "413/413 [==============================] - 1s 3ms/step - loss: 0.4781 - root_mean_squared_error: 0.6914 - val_loss: 0.4989 - val_root_mean_squared_error: 0.7063\n",
            "Epoch 16/20\n",
            "413/413 [==============================] - 1s 3ms/step - loss: 0.4733 - root_mean_squared_error: 0.6880 - val_loss: 0.4951 - val_root_mean_squared_error: 0.7036\n",
            "Epoch 17/20\n",
            "413/413 [==============================] - 1s 3ms/step - loss: 0.4696 - root_mean_squared_error: 0.6853 - val_loss: 0.4915 - val_root_mean_squared_error: 0.7010\n",
            "Epoch 18/20\n",
            "413/413 [==============================] - 1s 3ms/step - loss: 0.4656 - root_mean_squared_error: 0.6824 - val_loss: 0.4878 - val_root_mean_squared_error: 0.6984\n",
            "Epoch 19/20\n",
            "413/413 [==============================] - 1s 3ms/step - loss: 0.4622 - root_mean_squared_error: 0.6798 - val_loss: 0.4862 - val_root_mean_squared_error: 0.6973\n",
            "Epoch 20/20\n",
            "413/413 [==============================] - 1s 3ms/step - loss: 0.4592 - root_mean_squared_error: 0.6777 - val_loss: 0.4833 - val_root_mean_squared_error: 0.6952\n"
          ]
        }
      ]
    },
    {
      "cell_type": "code",
      "source": [
        "x1_test=np.hsplit(X_test,np.array([5,8]))[0]\n",
        "x2_test=np.hsplit(X_test,np.array([2,8]))[1]\n",
        "func_model.evaluate([x1_test,x2_test], y_test)"
      ],
      "metadata": {
        "id": "C2OSyHrshJvM",
        "colab": {
          "base_uri": "https://localhost:8080/"
        },
        "outputId": "6d073ebf-2759-44c2-d0c9-977a54561c18"
      },
      "execution_count": null,
      "outputs": [
        {
          "output_type": "stream",
          "name": "stdout",
          "text": [
            "129/129 [==============================] - 0s 2ms/step - loss: 0.4726 - root_mean_squared_error: 0.6874\n"
          ]
        },
        {
          "output_type": "execute_result",
          "data": {
            "text/plain": [
              "[0.4725596308708191, 0.6874297261238098]"
            ]
          },
          "metadata": {},
          "execution_count": 18
        }
      ]
    },
    {
      "cell_type": "code",
      "source": [
        "import matplotlib.pyplot as plt\n",
        "plt.style.use(\"seaborn\")\n",
        "plt.plot(history.epoch,history_func.history['loss'])\n",
        "plt.plot(history.epoch,history_func.history['val_loss'])\n",
        "plt.legend([\"Training loss\",\"Test Loss\"])"
      ],
      "metadata": {
        "colab": {
          "base_uri": "https://localhost:8080/",
          "height": 364
        },
        "id": "yiDaJNlbYPN1",
        "outputId": "078e50ae-9bb7-4353-b42e-4fbb7152c93e"
      },
      "execution_count": null,
      "outputs": [
        {
          "output_type": "execute_result",
          "data": {
            "text/plain": [
              "<matplotlib.legend.Legend at 0x7fe0f60b0650>"
            ]
          },
          "metadata": {},
          "execution_count": 19
        },
        {
          "output_type": "display_data",
          "data": {
            "text/plain": [
              "<Figure size 576x396 with 1 Axes>"
            ],
            "image/png": "[encoded data removed]"
          },
          "metadata": {}
        }
      ]
    },
    {
      "cell_type": "markdown",
      "source": [
        "We can see that the wide and deep neural network model has better loss and rmse score than sequential model and if we keep running both the model for more epohs then the wide and deep NN model will make better predictions"
      ],
      "metadata": {
        "id": "gxUJdwXBbeTq"
      }
    },
    {
      "cell_type": "code",
      "source": [],
      "metadata": {
        "id": "DotOgbxYcYgk"
      },
      "execution_count": null,
      "outputs": []
    }
  ]
}