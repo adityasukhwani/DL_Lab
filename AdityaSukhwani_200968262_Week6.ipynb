{
  "nbformat": 4,
  "nbformat_minor": 0,
  "metadata": {
    "colab": {
      "provenance": [],
      "collapsed_sections": []
    },
    "kernelspec": {
      "name": "python3",
      "display_name": "Python 3"
    },
    "language_info": {
      "name": "python"
    },
    "accelerator": "GPU"
  },
  "cells": [
    {
      "cell_type": "code",
      "execution_count": null,
      "metadata": {
        "id": "e7nBr-VUCqNA"
      },
      "outputs": [],
      "source": [
        "import numpy as np\n",
        "import tensorflow as tf\n",
        "from tensorflow import keras\n",
        "import pandas as pd"
      ]
    },
    {
      "cell_type": "code",
      "source": [
        "!wget --no-check-certificate \\\n",
        " https://archive.ics.uci.edu/ml/machine-learning-databases/covtype/covtype.data.gz "
      ],
      "metadata": {
        "colab": {
          "base_uri": "https://localhost:8080/"
        },
        "id": "_dc-EhqZEeaz",
        "outputId": "77067661-4fc4-44e1-b211-6db6eb3ade37"
      },
      "execution_count": null,
      "outputs": [
        {
          "output_type": "stream",
          "name": "stdout",
          "text": [
            "--2022-09-01 03:41:26--  https://archive.ics.uci.edu/ml/machine-learning-databases/covtype/covtype.data.gz\n",
            "Resolving archive.ics.uci.edu (archive.ics.uci.edu)... 128.195.10.252\n",
            "Connecting to archive.ics.uci.edu (archive.ics.uci.edu)|128.195.10.252|:443... connected.\n",
            "HTTP request sent, awaiting response... 200 OK\n",
            "Length: 11240707 (11M) [application/x-httpd-php]\n",
            "Saving to: ‘covtype.data.gz.1’\n",
            "\n",
            "covtype.data.gz.1   100%[===================>]  10.72M  6.86MB/s    in 1.6s    \n",
            "\n",
            "2022-09-01 03:41:28 (6.86 MB/s) - ‘covtype.data.gz.1’ saved [11240707/11240707]\n",
            "\n"
          ]
        }
      ]
    },
    {
      "cell_type": "code",
      "source": [
        "!gzip -d \"/content/covtype.data.gz\""
      ],
      "metadata": {
        "id": "kM6qxvybFBnB"
      },
      "execution_count": null,
      "outputs": []
    },
    {
      "cell_type": "code",
      "source": [
        "df= pd.read_csv(\"covtype.data\", header=None)"
      ],
      "metadata": {
        "id": "8EapOeYBFc77"
      },
      "execution_count": null,
      "outputs": []
    },
    {
      "cell_type": "code",
      "source": [
        "df"
      ],
      "metadata": {
        "colab": {
          "base_uri": "https://localhost:8080/",
          "height": 424
        },
        "id": "bJoiTJc4H7ap",
        "outputId": "c56646b3-f2a1-4e6f-b0f4-976d3fc2ef8e"
      },
      "execution_count": null,
      "outputs": [
        {
          "output_type": "execute_result",
          "data": {
            "text/plain": [
              "          0    1   2    3    4     5    6    7    8     9   ...  45  46  47  \\\n",
              "0       2596   51   3  258    0   510  221  232  148  6279  ...   0   0   0   \n",
              "1       2590   56   2  212   -6   390  220  235  151  6225  ...   0   0   0   \n",
              "2       2804  139   9  268   65  3180  234  238  135  6121  ...   0   0   0   \n",
              "3       2785  155  18  242  118  3090  238  238  122  6211  ...   0   0   0   \n",
              "4       2595   45   2  153   -1   391  220  234  150  6172  ...   0   0   0   \n",
              "...      ...  ...  ..  ...  ...   ...  ...  ...  ...   ...  ...  ..  ..  ..   \n",
              "581007  2396  153  20   85   17   108  240  237  118   837  ...   0   0   0   \n",
              "581008  2391  152  19   67   12    95  240  237  119   845  ...   0   0   0   \n",
              "581009  2386  159  17   60    7    90  236  241  130   854  ...   0   0   0   \n",
              "581010  2384  170  15   60    5    90  230  245  143   864  ...   0   0   0   \n",
              "581011  2383  165  13   60    4    67  231  244  141   875  ...   0   0   0   \n",
              "\n",
              "        48  49  50  51  52  53  54  \n",
              "0        0   0   0   0   0   0   5  \n",
              "1        0   0   0   0   0   0   5  \n",
              "2        0   0   0   0   0   0   2  \n",
              "3        0   0   0   0   0   0   2  \n",
              "4        0   0   0   0   0   0   5  \n",
              "...     ..  ..  ..  ..  ..  ..  ..  \n",
              "581007   0   0   0   0   0   0   3  \n",
              "581008   0   0   0   0   0   0   3  \n",
              "581009   0   0   0   0   0   0   3  \n",
              "581010   0   0   0   0   0   0   3  \n",
              "581011   0   0   0   0   0   0   3  \n",
              "\n",
              "[581012 rows x 55 columns]"
            ],
            "text/html": [
              "\n",
              "  <div id=\"df-5243940d-735f-4241-8434-b1575152273e\">\n",
              "    <div class=\"colab-df-container\">\n",
              "      <div>\n",
              "<style scoped>\n",
              "    .dataframe tbody tr th:only-of-type {\n",
              "        vertical-align: middle;\n",
              "    }\n",
              "\n",
              "    .dataframe tbody tr th {\n",
              "        vertical-align: top;\n",
              "    }\n",
              "\n",
              "    .dataframe thead th {\n",
              "        text-align: right;\n",
              "    }\n",
              "</style>\n",
              "<table border=\"1\" class=\"dataframe\">\n",
              "  <thead>\n",
              "    <tr style=\"text-align: right;\">\n",
              "      <th></th>\n",
              "      <th>0</th>\n",
              "      <th>1</th>\n",
              "      <th>2</th>\n",
              "      <th>3</th>\n",
              "      <th>4</th>\n",
              "      <th>5</th>\n",
              "      <th>6</th>\n",
              "      <th>7</th>\n",
              "      <th>8</th>\n",
              "      <th>9</th>\n",
              "      <th>...</th>\n",
              "      <th>45</th>\n",
              "      <th>46</th>\n",
              "      <th>47</th>\n",
              "      <th>48</th>\n",
              "      <th>49</th>\n",
              "      <th>50</th>\n",
              "      <th>51</th>\n",
              "      <th>52</th>\n",
              "      <th>53</th>\n",
              "      <th>54</th>\n",
              "    </tr>\n",
              "  </thead>\n",
              "  <tbody>\n",
              "    <tr>\n",
              "      <th>0</th>\n",
              "      <td>2596</td>\n",
              "      <td>51</td>\n",
              "      <td>3</td>\n",
              "      <td>258</td>\n",
              "      <td>0</td>\n",
              "      <td>510</td>\n",
              "      <td>221</td>\n",
              "      <td>232</td>\n",
              "      <td>148</td>\n",
              "      <td>6279</td>\n",
              "      <td>...</td>\n",
              "      <td>0</td>\n",
              "      <td>0</td>\n",
              "      <td>0</td>\n",
              "      <td>0</td>\n",
              "      <td>0</td>\n",
              "      <td>0</td>\n",
              "      <td>0</td>\n",
              "      <td>0</td>\n",
              "      <td>0</td>\n",
              "      <td>5</td>\n",
              "    </tr>\n",
              "    <tr>\n",
              "      <th>1</th>\n",
              "      <td>2590</td>\n",
              "      <td>56</td>\n",
              "      <td>2</td>\n",
              "      <td>212</td>\n",
              "      <td>-6</td>\n",
              "      <td>390</td>\n",
              "      <td>220</td>\n",
              "      <td>235</td>\n",
              "      <td>151</td>\n",
              "      <td>6225</td>\n",
              "      <td>...</td>\n",
              "      <td>0</td>\n",
              "      <td>0</td>\n",
              "      <td>0</td>\n",
              "      <td>0</td>\n",
              "      <td>0</td>\n",
              "      <td>0</td>\n",
              "      <td>0</td>\n",
              "      <td>0</td>\n",
              "      <td>0</td>\n",
              "      <td>5</td>\n",
              "    </tr>\n",
              "    <tr>\n",
              "      <th>2</th>\n",
              "      <td>2804</td>\n",
              "      <td>139</td>\n",
              "      <td>9</td>\n",
              "      <td>268</td>\n",
              "      <td>65</td>\n",
              "      <td>3180</td>\n",
              "      <td>234</td>\n",
              "      <td>238</td>\n",
              "      <td>135</td>\n",
              "      <td>6121</td>\n",
              "      <td>...</td>\n",
              "      <td>0</td>\n",
              "      <td>0</td>\n",
              "      <td>0</td>\n",
              "      <td>0</td>\n",
              "      <td>0</td>\n",
              "      <td>0</td>\n",
              "      <td>0</td>\n",
              "      <td>0</td>\n",
              "      <td>0</td>\n",
              "      <td>2</td>\n",
              "    </tr>\n",
              "    <tr>\n",
              "      <th>3</th>\n",
              "      <td>2785</td>\n",
              "      <td>155</td>\n",
              "      <td>18</td>\n",
              "      <td>242</td>\n",
              "      <td>118</td>\n",
              "      <td>3090</td>\n",
              "      <td>238</td>\n",
              "      <td>238</td>\n",
              "      <td>122</td>\n",
              "      <td>6211</td>\n",
              "      <td>...</td>\n",
              "      <td>0</td>\n",
              "      <td>0</td>\n",
              "      <td>0</td>\n",
              "      <td>0</td>\n",
              "      <td>0</td>\n",
              "      <td>0</td>\n",
              "      <td>0</td>\n",
              "      <td>0</td>\n",
              "      <td>0</td>\n",
              "      <td>2</td>\n",
              "    </tr>\n",
              "    <tr>\n",
              "      <th>4</th>\n",
              "      <td>2595</td>\n",
              "      <td>45</td>\n",
              "      <td>2</td>\n",
              "      <td>153</td>\n",
              "      <td>-1</td>\n",
              "      <td>391</td>\n",
              "      <td>220</td>\n",
              "      <td>234</td>\n",
              "      <td>150</td>\n",
              "      <td>6172</td>\n",
              "      <td>...</td>\n",
              "      <td>0</td>\n",
              "      <td>0</td>\n",
              "      <td>0</td>\n",
              "      <td>0</td>\n",
              "      <td>0</td>\n",
              "      <td>0</td>\n",
              "      <td>0</td>\n",
              "      <td>0</td>\n",
              "      <td>0</td>\n",
              "      <td>5</td>\n",
              "    </tr>\n",
              "    <tr>\n",
              "      <th>...</th>\n",
              "      <td>...</td>\n",
              "      <td>...</td>\n",
              "      <td>...</td>\n",
              "      <td>...</td>\n",
              "      <td>...</td>\n",
              "      <td>...</td>\n",
              "      <td>...</td>\n",
              "      <td>...</td>\n",
              "      <td>...</td>\n",
              "      <td>...</td>\n",
              "      <td>...</td>\n",
              "      <td>...</td>\n",
              "      <td>...</td>\n",
              "      <td>...</td>\n",
              "      <td>...</td>\n",
              "      <td>...</td>\n",
              "      <td>...</td>\n",
              "      <td>...</td>\n",
              "      <td>...</td>\n",
              "      <td>...</td>\n",
              "      <td>...</td>\n",
              "    </tr>\n",
              "    <tr>\n",
              "      <th>581007</th>\n",
              "      <td>2396</td>\n",
              "      <td>153</td>\n",
              "      <td>20</td>\n",
              "      <td>85</td>\n",
              "      <td>17</td>\n",
              "      <td>108</td>\n",
              "      <td>240</td>\n",
              "      <td>237</td>\n",
              "      <td>118</td>\n",
              "      <td>837</td>\n",
              "      <td>...</td>\n",
              "      <td>0</td>\n",
              "      <td>0</td>\n",
              "      <td>0</td>\n",
              "      <td>0</td>\n",
              "      <td>0</td>\n",
              "      <td>0</td>\n",
              "      <td>0</td>\n",
              "      <td>0</td>\n",
              "      <td>0</td>\n",
              "      <td>3</td>\n",
              "    </tr>\n",
              "    <tr>\n",
              "      <th>581008</th>\n",
              "      <td>2391</td>\n",
              "      <td>152</td>\n",
              "      <td>19</td>\n",
              "      <td>67</td>\n",
              "      <td>12</td>\n",
              "      <td>95</td>\n",
              "      <td>240</td>\n",
              "      <td>237</td>\n",
              "      <td>119</td>\n",
              "      <td>845</td>\n",
              "      <td>...</td>\n",
              "      <td>0</td>\n",
              "      <td>0</td>\n",
              "      <td>0</td>\n",
              "      <td>0</td>\n",
              "      <td>0</td>\n",
              "      <td>0</td>\n",
              "      <td>0</td>\n",
              "      <td>0</td>\n",
              "      <td>0</td>\n",
              "      <td>3</td>\n",
              "    </tr>\n",
              "    <tr>\n",
              "      <th>581009</th>\n",
              "      <td>2386</td>\n",
              "      <td>159</td>\n",
              "      <td>17</td>\n",
              "      <td>60</td>\n",
              "      <td>7</td>\n",
              "      <td>90</td>\n",
              "      <td>236</td>\n",
              "      <td>241</td>\n",
              "      <td>130</td>\n",
              "      <td>854</td>\n",
              "      <td>...</td>\n",
              "      <td>0</td>\n",
              "      <td>0</td>\n",
              "      <td>0</td>\n",
              "      <td>0</td>\n",
              "      <td>0</td>\n",
              "      <td>0</td>\n",
              "      <td>0</td>\n",
              "      <td>0</td>\n",
              "      <td>0</td>\n",
              "      <td>3</td>\n",
              "    </tr>\n",
              "    <tr>\n",
              "      <th>581010</th>\n",
              "      <td>2384</td>\n",
              "      <td>170</td>\n",
              "      <td>15</td>\n",
              "      <td>60</td>\n",
              "      <td>5</td>\n",
              "      <td>90</td>\n",
              "      <td>230</td>\n",
              "      <td>245</td>\n",
              "      <td>143</td>\n",
              "      <td>864</td>\n",
              "      <td>...</td>\n",
              "      <td>0</td>\n",
              "      <td>0</td>\n",
              "      <td>0</td>\n",
              "      <td>0</td>\n",
              "      <td>0</td>\n",
              "      <td>0</td>\n",
              "      <td>0</td>\n",
              "      <td>0</td>\n",
              "      <td>0</td>\n",
              "      <td>3</td>\n",
              "    </tr>\n",
              "    <tr>\n",
              "      <th>581011</th>\n",
              "      <td>2383</td>\n",
              "      <td>165</td>\n",
              "      <td>13</td>\n",
              "      <td>60</td>\n",
              "      <td>4</td>\n",
              "      <td>67</td>\n",
              "      <td>231</td>\n",
              "      <td>244</td>\n",
              "      <td>141</td>\n",
              "      <td>875</td>\n",
              "      <td>...</td>\n",
              "      <td>0</td>\n",
              "      <td>0</td>\n",
              "      <td>0</td>\n",
              "      <td>0</td>\n",
              "      <td>0</td>\n",
              "      <td>0</td>\n",
              "      <td>0</td>\n",
              "      <td>0</td>\n",
              "      <td>0</td>\n",
              "      <td>3</td>\n",
              "    </tr>\n",
              "  </tbody>\n",
              "</table>\n",
              "<p>581012 rows × 55 columns</p>\n",
              "</div>\n",
              "      <button class=\"colab-df-convert\" onclick=\"convertToInteractive('df-5243940d-735f-4241-8434-b1575152273e')\"\n",
              "              title=\"Convert this dataframe to an interactive table.\"\n",
              "              style=\"display:none;\">\n",
              "        \n",
              "  <svg xmlns=\"http://www.w3.org/2000/svg\" height=\"24px\"viewBox=\"0 0 24 24\"\n",
              "       width=\"24px\">\n",
              "    <path d=\"M0 0h24v24H0V0z\" fill=\"none\"/>\n",
              "    <path d=\"M18.56 5.44l.94 2.06.94-2.06 2.06-.94-2.06-.94-.94-2.06-.94 2.06-2.06.94zm-11 1L8.5 8.5l.94-2.06 2.06-.94-2.06-.94L8.5 2.5l-.94 2.06-2.06.94zm10 10l.94 2.06.94-2.06 2.06-.94-2.06-.94-.94-2.06-.94 2.06-2.06.94z\"/><path d=\"M17.41 7.96l-1.37-1.37c-.4-.4-.92-.59-1.43-.59-.52 0-1.04.2-1.43.59L10.3 9.45l-7.72 7.72c-.78.78-.78 2.05 0 2.83L4 21.41c.39.39.9.59 1.41.59.51 0 1.02-.2 1.41-.59l7.78-7.78 2.81-2.81c.8-.78.8-2.07 0-2.86zM5.41 20L4 18.59l7.72-7.72 1.47 1.35L5.41 20z\"/>\n",
              "  </svg>\n",
              "      </button>\n",
              "      \n",
              "  <style>\n",
              "    .colab-df-container {\n",
              "      display:flex;\n",
              "      flex-wrap:wrap;\n",
              "      gap: 12px;\n",
              "    }\n",
              "\n",
              "    .colab-df-convert {\n",
              "      background-color: #E8F0FE;\n",
              "      border: none;\n",
              "      border-radius: 50%;\n",
              "      cursor: pointer;\n",
              "      display: none;\n",
              "      fill: #1967D2;\n",
              "      height: 32px;\n",
              "      padding: 0 0 0 0;\n",
              "      width: 32px;\n",
              "    }\n",
              "\n",
              "    .colab-df-convert:hover {\n",
              "      background-color: #E2EBFA;\n",
              "      box-shadow: 0px 1px 2px rgba(60, 64, 67, 0.3), 0px 1px 3px 1px rgba(60, 64, 67, 0.15);\n",
              "      fill: #174EA6;\n",
              "    }\n",
              "\n",
              "    [theme=dark] .colab-df-convert {\n",
              "      background-color: #3B4455;\n",
              "      fill: #D2E3FC;\n",
              "    }\n",
              "\n",
              "    [theme=dark] .colab-df-convert:hover {\n",
              "      background-color: #434B5C;\n",
              "      box-shadow: 0px 1px 3px 1px rgba(0, 0, 0, 0.15);\n",
              "      filter: drop-shadow(0px 1px 2px rgba(0, 0, 0, 0.3));\n",
              "      fill: #FFFFFF;\n",
              "    }\n",
              "  </style>\n",
              "\n",
              "      <script>\n",
              "        const buttonEl =\n",
              "          document.querySelector('#df-5243940d-735f-4241-8434-b1575152273e button.colab-df-convert');\n",
              "        buttonEl.style.display =\n",
              "          google.colab.kernel.accessAllowed ? 'block' : 'none';\n",
              "\n",
              "        async function convertToInteractive(key) {\n",
              "          const element = document.querySelector('#df-5243940d-735f-4241-8434-b1575152273e');\n",
              "          const dataTable =\n",
              "            await google.colab.kernel.invokeFunction('convertToInteractive',\n",
              "                                                     [key], {});\n",
              "          if (!dataTable) return;\n",
              "\n",
              "          const docLinkHtml = 'Like what you see? Visit the ' +\n",
              "            '<a target=\"_blank\" href=https://colab.research.google.com/notebooks/data_table.ipynb>data table notebook</a>'\n",
              "            + ' to learn more about interactive tables.';\n",
              "          element.innerHTML = '';\n",
              "          dataTable['output_type'] = 'display_data';\n",
              "          await google.colab.output.renderOutput(dataTable, element);\n",
              "          const docLink = document.createElement('div');\n",
              "          docLink.innerHTML = docLinkHtml;\n",
              "          element.appendChild(docLink);\n",
              "        }\n",
              "      </script>\n",
              "    </div>\n",
              "  </div>\n",
              "  "
            ]
          },
          "metadata": {},
          "execution_count": 28
        }
      ]
    },
    {
      "cell_type": "markdown",
      "source": [
        "**Week6 - Ex2**"
      ],
      "metadata": {
        "id": "R4kolbXRLZP1"
      }
    },
    {
      "cell_type": "code",
      "source": [
        "df_test=pd.read_csv(\"/content/sample_data/Google_Stock_Price_Test.csv\")\n",
        "df_train=pd.read_csv(\"/content/sample_data/Google_Stock_Price_Train.csv\")"
      ],
      "metadata": {
        "id": "GKmSZpI8L0Gl"
      },
      "execution_count": null,
      "outputs": []
    },
    {
      "cell_type": "code",
      "source": [
        "df_train.shape"
      ],
      "metadata": {
        "colab": {
          "base_uri": "https://localhost:8080/"
        },
        "id": "L3Vu4MifL_EN",
        "outputId": "fca2d08d-a488-4637-d021-59492e958f77"
      },
      "execution_count": null,
      "outputs": [
        {
          "output_type": "execute_result",
          "data": {
            "text/plain": [
              "(1258, 6)"
            ]
          },
          "metadata": {},
          "execution_count": 3
        }
      ]
    },
    {
      "cell_type": "code",
      "source": [
        "df_train.head()"
      ],
      "metadata": {
        "id": "q8sfEbCjlZSh",
        "colab": {
          "base_uri": "https://localhost:8080/",
          "height": 206
        },
        "outputId": "52a2c180-12f1-48b7-905d-61e2910833ec"
      },
      "execution_count": null,
      "outputs": [
        {
          "output_type": "execute_result",
          "data": {
            "text/plain": [
              "       Date    Open    High     Low   Close      Volume\n",
              "0  1/3/2012  325.25  332.83  324.97  663.59   7,380,500\n",
              "1  1/4/2012  331.27  333.87  329.08  666.45   5,749,400\n",
              "2  1/5/2012  329.83  330.75  326.89  657.21   6,590,300\n",
              "3  1/6/2012  328.34  328.77  323.68  648.24   5,405,900\n",
              "4  1/9/2012  322.04  322.29  309.46  620.76  11,688,800"
            ],
            "text/html": [
              "\n",
              "  <div id=\"df-21285626-582d-4c3e-93e0-d2d93168bf85\">\n",
              "    <div class=\"colab-df-container\">\n",
              "      <div>\n",
              "<style scoped>\n",
              "    .dataframe tbody tr th:only-of-type {\n",
              "        vertical-align: middle;\n",
              "    }\n",
              "\n",
              "    .dataframe tbody tr th {\n",
              "        vertical-align: top;\n",
              "    }\n",
              "\n",
              "    .dataframe thead th {\n",
              "        text-align: right;\n",
              "    }\n",
              "</style>\n",
              "<table border=\"1\" class=\"dataframe\">\n",
              "  <thead>\n",
              "    <tr style=\"text-align: right;\">\n",
              "      <th></th>\n",
              "      <th>Date</th>\n",
              "      <th>Open</th>\n",
              "      <th>High</th>\n",
              "      <th>Low</th>\n",
              "      <th>Close</th>\n",
              "      <th>Volume</th>\n",
              "    </tr>\n",
              "  </thead>\n",
              "  <tbody>\n",
              "    <tr>\n",
              "      <th>0</th>\n",
              "      <td>1/3/2012</td>\n",
              "      <td>325.25</td>\n",
              "      <td>332.83</td>\n",
              "      <td>324.97</td>\n",
              "      <td>663.59</td>\n",
              "      <td>7,380,500</td>\n",
              "    </tr>\n",
              "    <tr>\n",
              "      <th>1</th>\n",
              "      <td>1/4/2012</td>\n",
              "      <td>331.27</td>\n",
              "      <td>333.87</td>\n",
              "      <td>329.08</td>\n",
              "      <td>666.45</td>\n",
              "      <td>5,749,400</td>\n",
              "    </tr>\n",
              "    <tr>\n",
              "      <th>2</th>\n",
              "      <td>1/5/2012</td>\n",
              "      <td>329.83</td>\n",
              "      <td>330.75</td>\n",
              "      <td>326.89</td>\n",
              "      <td>657.21</td>\n",
              "      <td>6,590,300</td>\n",
              "    </tr>\n",
              "    <tr>\n",
              "      <th>3</th>\n",
              "      <td>1/6/2012</td>\n",
              "      <td>328.34</td>\n",
              "      <td>328.77</td>\n",
              "      <td>323.68</td>\n",
              "      <td>648.24</td>\n",
              "      <td>5,405,900</td>\n",
              "    </tr>\n",
              "    <tr>\n",
              "      <th>4</th>\n",
              "      <td>1/9/2012</td>\n",
              "      <td>322.04</td>\n",
              "      <td>322.29</td>\n",
              "      <td>309.46</td>\n",
              "      <td>620.76</td>\n",
              "      <td>11,688,800</td>\n",
              "    </tr>\n",
              "  </tbody>\n",
              "</table>\n",
              "</div>\n",
              "      <button class=\"colab-df-convert\" onclick=\"convertToInteractive('df-21285626-582d-4c3e-93e0-d2d93168bf85')\"\n",
              "              title=\"Convert this dataframe to an interactive table.\"\n",
              "              style=\"display:none;\">\n",
              "        \n",
              "  <svg xmlns=\"http://www.w3.org/2000/svg\" height=\"24px\"viewBox=\"0 0 24 24\"\n",
              "       width=\"24px\">\n",
              "    <path d=\"M0 0h24v24H0V0z\" fill=\"none\"/>\n",
              "    <path d=\"M18.56 5.44l.94 2.06.94-2.06 2.06-.94-2.06-.94-.94-2.06-.94 2.06-2.06.94zm-11 1L8.5 8.5l.94-2.06 2.06-.94-2.06-.94L8.5 2.5l-.94 2.06-2.06.94zm10 10l.94 2.06.94-2.06 2.06-.94-2.06-.94-.94-2.06-.94 2.06-2.06.94z\"/><path d=\"M17.41 7.96l-1.37-1.37c-.4-.4-.92-.59-1.43-.59-.52 0-1.04.2-1.43.59L10.3 9.45l-7.72 7.72c-.78.78-.78 2.05 0 2.83L4 21.41c.39.39.9.59 1.41.59.51 0 1.02-.2 1.41-.59l7.78-7.78 2.81-2.81c.8-.78.8-2.07 0-2.86zM5.41 20L4 18.59l7.72-7.72 1.47 1.35L5.41 20z\"/>\n",
              "  </svg>\n",
              "      </button>\n",
              "      \n",
              "  <style>\n",
              "    .colab-df-container {\n",
              "      display:flex;\n",
              "      flex-wrap:wrap;\n",
              "      gap: 12px;\n",
              "    }\n",
              "\n",
              "    .colab-df-convert {\n",
              "      background-color: #E8F0FE;\n",
              "      border: none;\n",
              "      border-radius: 50%;\n",
              "      cursor: pointer;\n",
              "      display: none;\n",
              "      fill: #1967D2;\n",
              "      height: 32px;\n",
              "      padding: 0 0 0 0;\n",
              "      width: 32px;\n",
              "    }\n",
              "\n",
              "    .colab-df-convert:hover {\n",
              "      background-color: #E2EBFA;\n",
              "      box-shadow: 0px 1px 2px rgba(60, 64, 67, 0.3), 0px 1px 3px 1px rgba(60, 64, 67, 0.15);\n",
              "      fill: #174EA6;\n",
              "    }\n",
              "\n",
              "    [theme=dark] .colab-df-convert {\n",
              "      background-color: #3B4455;\n",
              "      fill: #D2E3FC;\n",
              "    }\n",
              "\n",
              "    [theme=dark] .colab-df-convert:hover {\n",
              "      background-color: #434B5C;\n",
              "      box-shadow: 0px 1px 3px 1px rgba(0, 0, 0, 0.15);\n",
              "      filter: drop-shadow(0px 1px 2px rgba(0, 0, 0, 0.3));\n",
              "      fill: #FFFFFF;\n",
              "    }\n",
              "  </style>\n",
              "\n",
              "      <script>\n",
              "        const buttonEl =\n",
              "          document.querySelector('#df-21285626-582d-4c3e-93e0-d2d93168bf85 button.colab-df-convert');\n",
              "        buttonEl.style.display =\n",
              "          google.colab.kernel.accessAllowed ? 'block' : 'none';\n",
              "\n",
              "        async function convertToInteractive(key) {\n",
              "          const element = document.querySelector('#df-21285626-582d-4c3e-93e0-d2d93168bf85');\n",
              "          const dataTable =\n",
              "            await google.colab.kernel.invokeFunction('convertToInteractive',\n",
              "                                                     [key], {});\n",
              "          if (!dataTable) return;\n",
              "\n",
              "          const docLinkHtml = 'Like what you see? Visit the ' +\n",
              "            '<a target=\"_blank\" href=https://colab.research.google.com/notebooks/data_table.ipynb>data table notebook</a>'\n",
              "            + ' to learn more about interactive tables.';\n",
              "          element.innerHTML = '';\n",
              "          dataTable['output_type'] = 'display_data';\n",
              "          await google.colab.output.renderOutput(dataTable, element);\n",
              "          const docLink = document.createElement('div');\n",
              "          docLink.innerHTML = docLinkHtml;\n",
              "          element.appendChild(docLink);\n",
              "        }\n",
              "      </script>\n",
              "    </div>\n",
              "  </div>\n",
              "  "
            ]
          },
          "metadata": {},
          "execution_count": 4
        }
      ]
    },
    {
      "cell_type": "code",
      "source": [
        "import matplotlib.pyplot as plt\n",
        "plt.plot(df_train[\"Open\"])"
      ],
      "metadata": {
        "colab": {
          "base_uri": "https://localhost:8080/",
          "height": 282
        },
        "id": "ER_z_H_Ctwkk",
        "outputId": "d44372fc-12e3-4c3d-83c5-6aeea1ebf1fa"
      },
      "execution_count": null,
      "outputs": [
        {
          "output_type": "execute_result",
          "data": {
            "text/plain": [
              "[<matplotlib.lines.Line2D at 0x7f4aaca43550>]"
            ]
          },
          "metadata": {},
          "execution_count": 10
        },
        {
          "output_type": "display_data",
          "data": {
            "text/plain": [
              "<Figure size 432x288 with 1 Axes>"
            ],
            "image/png": "[encoded data removed]"
          },
          "metadata": {
            "needs_background": "light"
          }
        }
      ]
    },
    {
      "cell_type": "code",
      "source": [
        "train = df_train.loc[:,[\"Open\"]].values\n",
        "train"
      ],
      "metadata": {
        "colab": {
          "base_uri": "https://localhost:8080/"
        },
        "id": "iM-jKdK0vWNW",
        "outputId": "8fe17193-6d27-4054-f62a-7fcadba11c91"
      },
      "execution_count": null,
      "outputs": [
        {
          "output_type": "execute_result",
          "data": {
            "text/plain": [
              "array([[325.25],\n",
              "       [331.27],\n",
              "       [329.83],\n",
              "       ...,\n",
              "       [793.7 ],\n",
              "       [783.33],\n",
              "       [782.75]])"
            ]
          },
          "metadata": {},
          "execution_count": 11
        }
      ]
    },
    {
      "cell_type": "code",
      "source": [
        "from sklearn.preprocessing import MinMaxScaler\n",
        "scaler = MinMaxScaler(feature_range = (0,1))\n",
        "train_scaled = scaler.fit_transform(train)\n",
        "train_scaled"
      ],
      "metadata": {
        "colab": {
          "base_uri": "https://localhost:8080/"
        },
        "id": "TmIKTHFFwckN",
        "outputId": "52f08c69-76b4-4190-93f1-11f1e6bc6eab"
      },
      "execution_count": null,
      "outputs": [
        {
          "output_type": "execute_result",
          "data": {
            "text/plain": [
              "array([[0.08581368],\n",
              "       [0.09701243],\n",
              "       [0.09433366],\n",
              "       ...,\n",
              "       [0.95725128],\n",
              "       [0.93796041],\n",
              "       [0.93688146]])"
            ]
          },
          "metadata": {},
          "execution_count": 13
        }
      ]
    },
    {
      "cell_type": "code",
      "source": [
        "# Creating X and y training data\n",
        "X_train =[]\n",
        "y_train=[]\n",
        "\n",
        "for i in range(50,1258):\n",
        "  X_train.append(train_scaled[i-50:i,0])\n",
        "  y_train.append(train_scaled[i,0])\n",
        "X_train = np.array(X_train)\n",
        "y_train = np.array(y_train)\n",
        "\n",
        "print(X_train.shape)\n",
        "print(y_train.shape)"
      ],
      "metadata": {
        "colab": {
          "base_uri": "https://localhost:8080/"
        },
        "id": "xNhoxoEjw1m4",
        "outputId": "d8a496ff-e1ef-4431-899c-304d3652ac23"
      },
      "execution_count": null,
      "outputs": [
        {
          "output_type": "stream",
          "name": "stdout",
          "text": [
            "(1208, 50)\n",
            "(1208,)\n"
          ]
        }
      ]
    },
    {
      "cell_type": "code",
      "source": [
        "X_train = np.reshape(X_train,(X_train.shape[0], X_train.shape[1],1))\n",
        "X_train.shape"
      ],
      "metadata": {
        "colab": {
          "base_uri": "https://localhost:8080/"
        },
        "id": "4OmGhpHQxlZ2",
        "outputId": "91367f2c-d2be-4d32-9687-e6d40d7bc903"
      },
      "execution_count": null,
      "outputs": [
        {
          "output_type": "execute_result",
          "data": {
            "text/plain": [
              "(1208, 50, 1)"
            ]
          },
          "metadata": {},
          "execution_count": 15
        }
      ]
    },
    {
      "cell_type": "code",
      "source": [
        "# Simple RNN 4 Layers\n",
        "from keras.models import Sequential\n",
        "from keras.layers import Dense, SimpleRNN, Dropout, LSTM\n",
        "\n",
        "regressor = Sequential()\n",
        "# First Layer\n",
        "regressor.add(SimpleRNN (units =50, activation =\"tanh\", return_sequences= True, input_shape=(X_train.shape[1],1)))\n",
        "regressor.add(Dropout(0.2))\n",
        "#Second Layer\n",
        "regressor.add(SimpleRNN(units = 50, activation = \"tanh\", return_sequences = True))\n",
        "regressor.add(Dropout(0.2))\n",
        "# Third Layer\n",
        "regressor.add(SimpleRNN(units = 50, activation = \"tanh\", return_sequences = True))\n",
        "regressor.add(Dropout(0.2))\n",
        "#Fourth Layer\n",
        "regressor.add(SimpleRNN(units = 50))\n",
        "regressor.add(Dropout(0.2))\n",
        "#output layer\n",
        "regressor.add(Dense(units = 1))\n",
        "\n",
        "\n",
        "regressor.compile(optimizer = \"adam\", loss = \"mean_squared_error\")\n",
        "regressor.fit(X_train, y_train, epochs = 50, batch_size = 32)\n"
      ],
      "metadata": {
        "colab": {
          "base_uri": "https://localhost:8080/"
        },
        "id": "JvN002F2xpGO",
        "outputId": "16b7aa53-af30-4a7d-9bea-91903ee092f7"
      },
      "execution_count": null,
      "outputs": [
        {
          "output_type": "stream",
          "name": "stdout",
          "text": [
            "Epoch 1/50\n",
            "38/38 [==============================] - 11s 155ms/step - loss: 0.4668\n",
            "Epoch 2/50\n",
            "38/38 [==============================] - 6s 156ms/step - loss: 0.2796\n",
            "Epoch 3/50\n",
            "38/38 [==============================] - 6s 156ms/step - loss: 0.1984\n",
            "Epoch 4/50\n",
            "38/38 [==============================] - 6s 156ms/step - loss: 0.1685\n",
            "Epoch 5/50\n",
            "38/38 [==============================] - 6s 160ms/step - loss: 0.1515\n",
            "Epoch 6/50\n",
            "38/38 [==============================] - 6s 157ms/step - loss: 0.1239\n",
            "Epoch 7/50\n",
            "38/38 [==============================] - 6s 152ms/step - loss: 0.0940\n",
            "Epoch 8/50\n",
            "38/38 [==============================] - 6s 169ms/step - loss: 0.0800\n",
            "Epoch 9/50\n",
            "38/38 [==============================] - 6s 154ms/step - loss: 0.0707\n",
            "Epoch 10/50\n",
            "38/38 [==============================] - 6s 153ms/step - loss: 0.0609\n",
            "Epoch 11/50\n",
            "38/38 [==============================] - 6s 154ms/step - loss: 0.0516\n",
            "Epoch 12/50\n",
            "38/38 [==============================] - 6s 158ms/step - loss: 0.0418\n",
            "Epoch 13/50\n",
            "38/38 [==============================] - 6s 154ms/step - loss: 0.0407\n",
            "Epoch 14/50\n",
            "38/38 [==============================] - 6s 150ms/step - loss: 0.0321\n",
            "Epoch 15/50\n",
            "38/38 [==============================] - 6s 152ms/step - loss: 0.0290\n",
            "Epoch 16/50\n",
            "38/38 [==============================] - 6s 157ms/step - loss: 0.0258\n",
            "Epoch 17/50\n",
            "38/38 [==============================] - 6s 155ms/step - loss: 0.0247\n",
            "Epoch 18/50\n",
            "38/38 [==============================] - 6s 158ms/step - loss: 0.0209\n",
            "Epoch 19/50\n",
            "38/38 [==============================] - 6s 161ms/step - loss: 0.0212\n",
            "Epoch 20/50\n",
            "38/38 [==============================] - 6s 155ms/step - loss: 0.0181\n",
            "Epoch 21/50\n",
            "38/38 [==============================] - 6s 153ms/step - loss: 0.0184\n",
            "Epoch 22/50\n",
            "38/38 [==============================] - 6s 153ms/step - loss: 0.0164\n",
            "Epoch 23/50\n",
            "38/38 [==============================] - 6s 155ms/step - loss: 0.0152\n",
            "Epoch 24/50\n",
            "38/38 [==============================] - 6s 155ms/step - loss: 0.0136\n",
            "Epoch 25/50\n",
            "38/38 [==============================] - 6s 152ms/step - loss: 0.0136\n",
            "Epoch 26/50\n",
            "38/38 [==============================] - 6s 155ms/step - loss: 0.0136\n",
            "Epoch 27/50\n",
            "38/38 [==============================] - 6s 152ms/step - loss: 0.0119\n",
            "Epoch 28/50\n",
            "38/38 [==============================] - 6s 154ms/step - loss: 0.0117\n",
            "Epoch 29/50\n",
            "38/38 [==============================] - 6s 155ms/step - loss: 0.0100\n",
            "Epoch 30/50\n",
            "38/38 [==============================] - 6s 151ms/step - loss: 0.0104\n",
            "Epoch 31/50\n",
            "38/38 [==============================] - 6s 153ms/step - loss: 0.0097\n",
            "Epoch 32/50\n",
            "38/38 [==============================] - 6s 158ms/step - loss: 0.0097\n",
            "Epoch 33/50\n",
            "38/38 [==============================] - 6s 157ms/step - loss: 0.0086\n",
            "Epoch 34/50\n",
            "38/38 [==============================] - 6s 154ms/step - loss: 0.0088\n",
            "Epoch 35/50\n",
            "38/38 [==============================] - 6s 152ms/step - loss: 0.0077\n",
            "Epoch 36/50\n",
            "38/38 [==============================] - 6s 154ms/step - loss: 0.0073\n",
            "Epoch 37/50\n",
            "38/38 [==============================] - 6s 155ms/step - loss: 0.0068\n",
            "Epoch 38/50\n",
            "38/38 [==============================] - 6s 155ms/step - loss: 0.0074\n",
            "Epoch 39/50\n",
            "38/38 [==============================] - 6s 157ms/step - loss: 0.0071\n",
            "Epoch 40/50\n",
            "38/38 [==============================] - 6s 153ms/step - loss: 0.0067\n",
            "Epoch 41/50\n",
            "38/38 [==============================] - 6s 155ms/step - loss: 0.0057\n",
            "Epoch 42/50\n",
            "38/38 [==============================] - 6s 157ms/step - loss: 0.0062\n",
            "Epoch 43/50\n",
            "38/38 [==============================] - 6s 155ms/step - loss: 0.0052\n",
            "Epoch 44/50\n",
            "38/38 [==============================] - 6s 152ms/step - loss: 0.0059\n",
            "Epoch 45/50\n",
            "38/38 [==============================] - 6s 157ms/step - loss: 0.0060\n",
            "Epoch 46/50\n",
            "38/38 [==============================] - 6s 163ms/step - loss: 0.0058\n",
            "Epoch 47/50\n",
            "38/38 [==============================] - 6s 157ms/step - loss: 0.0061\n",
            "Epoch 48/50\n",
            "38/38 [==============================] - 6s 159ms/step - loss: 0.0050\n",
            "Epoch 49/50\n",
            "38/38 [==============================] - 6s 157ms/step - loss: 0.0049\n",
            "Epoch 50/50\n",
            "38/38 [==============================] - 6s 152ms/step - loss: 0.0048\n"
          ]
        },
        {
          "output_type": "execute_result",
          "data": {
            "text/plain": [
              "<keras.callbacks.History at 0x7f4aab405410>"
            ]
          },
          "metadata": {},
          "execution_count": 17
        }
      ]
    },
    {
      "cell_type": "code",
      "source": [
        "# LSTM\n",
        "\n",
        "model = Sequential()\n",
        "# First layer\n",
        "model.add(LSTM(units=50, return_sequences= True, input_shape=(X_train.shape[1],1)))\n",
        "model.add(Dropout(0.2))\n",
        "# Second Layer\n",
        "model.add(LSTM(units = 50, return_sequences = True))\n",
        "model.add(Dropout(0.2))\n",
        "#Third Layer\n",
        "model.add(LSTM(units = 50, return_sequences = True))\n",
        "model.add(Dropout(0.2))\n",
        "#Fourth Layer\n",
        "model.add(LSTM(units = 50))\n",
        "model.add(Dropout(0.2))\n",
        "#Output Layer\n",
        "model.add(Dense(units = 1))\n",
        "\n",
        "model.compile(optimizer = 'adam', loss = 'mean_squared_error')\n",
        "\n",
        "model.fit(X_train, y_train, epochs =50, batch_size=32)"
      ],
      "metadata": {
        "colab": {
          "base_uri": "https://localhost:8080/"
        },
        "id": "erwv12wnzXwI",
        "outputId": "d4b9f782-82cb-4930-8416-46c8e8c63010"
      },
      "execution_count": null,
      "outputs": [
        {
          "output_type": "stream",
          "name": "stdout",
          "text": [
            "Epoch 1/50\n",
            "38/38 [==============================] - 8s 14ms/step - loss: 0.0414\n",
            "Epoch 2/50\n",
            "38/38 [==============================] - 0s 12ms/step - loss: 0.0067\n",
            "Epoch 3/50\n",
            "38/38 [==============================] - 0s 12ms/step - loss: 0.0056\n",
            "Epoch 4/50\n",
            "38/38 [==============================] - 0s 12ms/step - loss: 0.0055\n",
            "Epoch 5/50\n",
            "38/38 [==============================] - 0s 12ms/step - loss: 0.0051\n",
            "Epoch 6/50\n",
            "38/38 [==============================] - 0s 12ms/step - loss: 0.0045\n",
            "Epoch 7/50\n",
            "38/38 [==============================] - 0s 12ms/step - loss: 0.0045\n",
            "Epoch 8/50\n",
            "38/38 [==============================] - 0s 12ms/step - loss: 0.0047\n",
            "Epoch 9/50\n",
            "38/38 [==============================] - 0s 12ms/step - loss: 0.0042\n",
            "Epoch 10/50\n",
            "38/38 [==============================] - 0s 12ms/step - loss: 0.0044\n",
            "Epoch 11/50\n",
            "38/38 [==============================] - 0s 12ms/step - loss: 0.0038\n",
            "Epoch 12/50\n",
            "38/38 [==============================] - 0s 12ms/step - loss: 0.0042\n",
            "Epoch 13/50\n",
            "38/38 [==============================] - 0s 12ms/step - loss: 0.0038\n",
            "Epoch 14/50\n",
            "38/38 [==============================] - 0s 12ms/step - loss: 0.0039\n",
            "Epoch 15/50\n",
            "38/38 [==============================] - 0s 12ms/step - loss: 0.0035\n",
            "Epoch 16/50\n",
            "38/38 [==============================] - 0s 12ms/step - loss: 0.0037\n",
            "Epoch 17/50\n",
            "38/38 [==============================] - 0s 13ms/step - loss: 0.0045\n",
            "Epoch 18/50\n",
            "38/38 [==============================] - 0s 12ms/step - loss: 0.0035\n",
            "Epoch 19/50\n",
            "38/38 [==============================] - 0s 12ms/step - loss: 0.0036\n",
            "Epoch 20/50\n",
            "38/38 [==============================] - 0s 12ms/step - loss: 0.0035\n",
            "Epoch 21/50\n",
            "38/38 [==============================] - 0s 12ms/step - loss: 0.0035\n",
            "Epoch 22/50\n",
            "38/38 [==============================] - 0s 12ms/step - loss: 0.0033\n",
            "Epoch 23/50\n",
            "38/38 [==============================] - 0s 12ms/step - loss: 0.0031\n",
            "Epoch 24/50\n",
            "38/38 [==============================] - 0s 12ms/step - loss: 0.0032\n",
            "Epoch 25/50\n",
            "38/38 [==============================] - 0s 12ms/step - loss: 0.0044\n",
            "Epoch 26/50\n",
            "38/38 [==============================] - 0s 12ms/step - loss: 0.0033\n",
            "Epoch 27/50\n",
            "38/38 [==============================] - 0s 12ms/step - loss: 0.0028\n",
            "Epoch 28/50\n",
            "38/38 [==============================] - 0s 13ms/step - loss: 0.0032\n",
            "Epoch 29/50\n",
            "38/38 [==============================] - 0s 12ms/step - loss: 0.0030\n",
            "Epoch 30/50\n",
            "38/38 [==============================] - 0s 12ms/step - loss: 0.0030\n",
            "Epoch 31/50\n",
            "38/38 [==============================] - 0s 12ms/step - loss: 0.0030\n",
            "Epoch 32/50\n",
            "38/38 [==============================] - 0s 12ms/step - loss: 0.0030\n",
            "Epoch 33/50\n",
            "38/38 [==============================] - 0s 12ms/step - loss: 0.0028\n",
            "Epoch 34/50\n",
            "38/38 [==============================] - 0s 12ms/step - loss: 0.0027\n",
            "Epoch 35/50\n",
            "38/38 [==============================] - 0s 13ms/step - loss: 0.0026\n",
            "Epoch 36/50\n",
            "38/38 [==============================] - 0s 12ms/step - loss: 0.0025\n",
            "Epoch 37/50\n",
            "38/38 [==============================] - 0s 12ms/step - loss: 0.0026\n",
            "Epoch 38/50\n",
            "38/38 [==============================] - 0s 12ms/step - loss: 0.0025\n",
            "Epoch 39/50\n",
            "38/38 [==============================] - 0s 12ms/step - loss: 0.0028\n",
            "Epoch 40/50\n",
            "38/38 [==============================] - 0s 12ms/step - loss: 0.0030\n",
            "Epoch 41/50\n",
            "38/38 [==============================] - 0s 12ms/step - loss: 0.0030\n",
            "Epoch 42/50\n",
            "38/38 [==============================] - 0s 12ms/step - loss: 0.0027\n",
            "Epoch 43/50\n",
            "38/38 [==============================] - 0s 12ms/step - loss: 0.0026\n",
            "Epoch 44/50\n",
            "38/38 [==============================] - 1s 15ms/step - loss: 0.0025\n",
            "Epoch 45/50\n",
            "38/38 [==============================] - 0s 12ms/step - loss: 0.0026\n",
            "Epoch 46/50\n",
            "38/38 [==============================] - 0s 12ms/step - loss: 0.0028\n",
            "Epoch 47/50\n",
            "38/38 [==============================] - 0s 12ms/step - loss: 0.0029\n",
            "Epoch 48/50\n",
            "38/38 [==============================] - 0s 12ms/step - loss: 0.0023\n",
            "Epoch 49/50\n",
            "38/38 [==============================] - 0s 13ms/step - loss: 0.0025\n",
            "Epoch 50/50\n",
            "38/38 [==============================] - 0s 12ms/step - loss: 0.0024\n"
          ]
        },
        {
          "output_type": "execute_result",
          "data": {
            "text/plain": [
              "<keras.callbacks.History at 0x7f4aab7cddd0>"
            ]
          },
          "metadata": {},
          "execution_count": 18
        }
      ]
    },
    {
      "cell_type": "code",
      "source": [
        "# Making predictions on test data\n",
        "\n",
        "test = df_test.loc[:,[\"Open\"]].values\n",
        "\n",
        "dataset_total = pd.concat((df_train[\"Open\"], df_test[\"Open\"]), axis=0)\n",
        "inputs= dataset_total[len(dataset_total)-len(df_test)-50:].values.reshape(-1,1)\n",
        "inputs=scaler.transform(inputs)"
      ],
      "metadata": {
        "id": "aXyfNjgj284F"
      },
      "execution_count": null,
      "outputs": []
    },
    {
      "cell_type": "code",
      "source": [
        "X_test=[]\n",
        "for i in range(50,70):\n",
        "    X_test.append(inputs[i-50:i,0])\n",
        "X_test=np.array(X_test)\n",
        "X_test=np.reshape(X_test,(X_test.shape[0],X_test.shape[1],1))"
      ],
      "metadata": {
        "id": "y10QIXd94Sfs"
      },
      "execution_count": null,
      "outputs": []
    },
    {
      "cell_type": "code",
      "source": [
        "# Prediction from SimpleRNN\n",
        "predicted_stock_price_RNN=regressor.predict(X_test)\n",
        "predicted_stock_price_RNN=scaler.inverse_transform(predicted_stock_price_RNN)\n",
        "\n",
        "# Prediction from LSTM\n",
        "predicted_stock_price_LSTM=model.predict(X_test)\n",
        "predicted_stock_price_LSTM=scaler.inverse_transform(predicted_stock_price_LSTM)"
      ],
      "metadata": {
        "id": "mr_cJGOg4gHq"
      },
      "execution_count": null,
      "outputs": []
    },
    {
      "cell_type": "code",
      "source": [
        "plt.plot(test,color=\"red\",label=\"Real Google Stock Price\")\n",
        "plt.plot(predicted_stock_price_LSTM,color=\"blue\",label=\"Preticted Google Stock Price with LSTM\")\n",
        "plt.plot(predicted_stock_price_RNN,color=\"green\",label=\"Preticted Google Stock Price with RNN\")\n",
        "plt.title(\"Google Stock Price Prediction\")\n",
        "plt.xlabel(\"Time\")\n",
        "plt.ylabel(\"Google Stock Price\")\n",
        "plt.legend()\n",
        "plt.show()"
      ],
      "metadata": {
        "colab": {
          "base_uri": "https://localhost:8080/",
          "height": 295
        },
        "id": "P9Lyex9h5Q98",
        "outputId": "1437e534-7632-4c84-f86e-6acea974c7d3"
      },
      "execution_count": null,
      "outputs": [
        {
          "output_type": "display_data",
          "data": {
            "text/plain": [
              "<Figure size 432x288 with 1 Axes>"
            ],
            "image/png": "[encoded data removed]"
          },
          "metadata": {
            "needs_background": "light"
          }
        }
      ]
    },
    {
      "cell_type": "code",
      "source": [],
      "metadata": {
        "id": "SVU0qMJS5igI"
      },
      "execution_count": null,
      "outputs": []
    }
  ]
}